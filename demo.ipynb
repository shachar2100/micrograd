{
 "cells": [
  {
   "cell_type": "markdown",
   "id": "838f6684",
   "metadata": {},
   "source": [
    "# Linear Regression with micrograd"
   ]
  },
  {
   "cell_type": "code",
   "execution_count": 2,
   "id": "4944f7e9",
   "metadata": {},
   "outputs": [],
   "source": [
    "# Import the Value class from micrograd\n",
    "from micrograd.engine import Value"
   ]
  },
  {
   "cell_type": "markdown",
   "id": "f8beb474",
   "metadata": {},
   "source": [
    "## Step 1: Define the model\n",
    "We'll define a simple linear model:\n",
    "\n",
    "$$ y = wx + b $$"
   ]
  },
  {
   "cell_type": "code",
   "execution_count": 3,
   "id": "876fc374",
   "metadata": {},
   "outputs": [],
   "source": [
    "# Initialize weights and bias\n",
    "w = Value(0.0)  # weight\n",
    "b = Value(0.0)  # bias"
   ]
  },
  {
   "cell_type": "code",
   "execution_count": 4,
   "id": "a2682645",
   "metadata": {},
   "outputs": [],
   "source": [
    "# Define the prediction function\n",
    "def predict(x):\n",
    "    return w * x + b"
   ]
  },
  {
   "cell_type": "markdown",
   "id": "c226e04d",
   "metadata": {},
   "source": [
    "## Step 2: Prepare the data\n",
    "We'll use five training samples:\n",
    "\n",
    "```\n",
    "x: [-2, -1, 0, 1, 2]\n",
    "y: [2x + 1 for x in X]\n",
    "```"
   ]
  },
  {
   "cell_type": "code",
   "execution_count": 5,
   "id": "d9322b1d",
   "metadata": {},
   "outputs": [],
   "source": [
    "# Input data and ground-truth outputs\n",
    "x_data = [Value(x) for x in [-2, -1, 0, 1, 2]]\n",
    "y_true = [Value(2 * x.data + 1) for x in x_data]"
   ]
  },
  {
   "cell_type": "markdown",
   "id": "4e4a032f",
   "metadata": {},
   "source": [
    "## Step 3: Training loop\n",
    "We'll train for 100 epochs using gradient descent to minimize the Mean Squared Error (MSE) loss."
   ]
  },
  {
   "cell_type": "code",
   "execution_count": null,
   "id": "dfe6bd9f",
   "metadata": {},
   "outputs": [
    {
     "name": "stdout",
     "output_type": "stream",
     "text": [
      "Epoch   0 | Loss: 45.0000 | w: 0.4000 | b: 0.1000\n",
      "Epoch  10 | Loss: 1.0691 | w: 1.8282 | b: 0.6862\n",
      "Epoch  20 | Loss: 0.0792 | w: 1.9816 | b: 0.8906\n",
      "Epoch  30 | Loss: 0.0090 | w: 1.9980 | b: 0.9618\n",
      "Epoch  40 | Loss: 0.0011 | w: 1.9998 | b: 0.9867\n",
      "Epoch  50 | Loss: 0.0001 | w: 2.0000 | b: 0.9954\n",
      "Epoch  60 | Loss: 0.0000 | w: 2.0000 | b: 0.9984\n",
      "Epoch  70 | Loss: 0.0000 | w: 2.0000 | b: 0.9994\n",
      "Epoch  80 | Loss: 0.0000 | w: 2.0000 | b: 0.9998\n",
      "Epoch  90 | Loss: 0.0000 | w: 2.0000 | b: 0.9999\n"
     ]
    }
   ],
   "source": [
    "# Training parameters\n",
    "learning_rate = 0.01\n",
    "epochs = 100\n",
    "\n",
    "# Training loop\n",
    "for epoch in range(epochs):\n",
    "    # Forward pass: compute predictions\n",
    "    y_pred = [predict(x) for x in x_data]\n",
    "    \n",
    "    # Compute Mean Squared Error loss\n",
    "    loss = sum((yp - yt)**2 for yp, yt in zip(y_pred, y_true))\n",
    "\n",
    "    # Backward pass: compute gradients\n",
    "    loss.backward()\n",
    "    \n",
    "    # Gradient descent: update weights and bias\n",
    "    w.data -= learning_rate * w.grad\n",
    "    b.data -= learning_rate * b.grad\n",
    "    \n",
    "    # Always zero the gradiant after use\n",
    "    w.grad = 0.0\n",
    "    b.grad = 0.0\n",
    "    \n",
    "    # Print training progress\n",
    "    if epoch % 10 == 0:\n",
    "        print(f\"Epoch {epoch:3d} | Loss: {loss.data:.4f} | w: {w.data:.4f} | b: {b.data:.4f}\")"
   ]
  },
  {
   "cell_type": "markdown",
   "id": "3b21e2f6",
   "metadata": {},
   "source": [
    "##Results\n",
    "After training, the model should have learned values close to:\n",
    "\n",
    "- `w ≈ 2`\n",
    "- `b ≈ 1`\n",
    "\n",
    "This shows that the model successfully learned the function $y = 2x + 1$ using gradient descent and backpropagation!"
   ]
  },
  {
   "cell_type": "code",
   "execution_count": 7,
   "id": "28dbb1d0",
   "metadata": {},
   "outputs": [
    {
     "name": "stdout",
     "output_type": "stream",
     "text": [
      "w: 2.0000 | b: 1.0000\n"
     ]
    }
   ],
   "source": [
    "print(f\"w: {w.data:.4f} | b: {b.data:.4f}\")"
   ]
  }
 ],
 "metadata": {
  "kernelspec": {
   "display_name": "Python 3",
   "language": "python",
   "name": "python3"
  },
  "language_info": {
   "codemirror_mode": {
    "name": "ipython",
    "version": 3
   },
   "file_extension": ".py",
   "mimetype": "text/x-python",
   "name": "python",
   "nbconvert_exporter": "python",
   "pygments_lexer": "ipython3",
   "version": "3.13.2"
  }
 },
 "nbformat": 4,
 "nbformat_minor": 5
}
